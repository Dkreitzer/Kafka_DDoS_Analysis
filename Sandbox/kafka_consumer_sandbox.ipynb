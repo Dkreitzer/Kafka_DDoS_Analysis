{
 "cells": [
  {
   "cell_type": "code",
   "execution_count": 1,
   "metadata": {},
   "outputs": [],
   "source": [
    "from json import loads\n",
    "from kafka import KafkaConsumer\n",
    "import os\n",
    "import re"
   ]
  },
  {
   "cell_type": "code",
   "execution_count": 26,
   "metadata": {},
   "outputs": [],
   "source": [
    "# Update line 4 with the Kafka Topic name\n",
    "\n",
    "consumer = KafkaConsumer(\n",
    "    'ipTest6',\n",
    "     bootstrap_servers=['localhost:9092'],\n",
    "     auto_offset_reset='earliest',\n",
    "     enable_auto_commit=False,\n",
    "     group_id='my-group',\n",
    "     consumer_timeout_ms=60000,\n",
    "     value_deserializer=lambda x: loads(x.decode('utf-8')))"
   ]
  },
  {
   "cell_type": "code",
   "execution_count": 3,
   "metadata": {},
   "outputs": [
    {
     "ename": "NameError",
     "evalue": "name 'KafkaProducer' is not defined",
     "output_type": "error",
     "traceback": [
      "\u001b[1;31m---------------------------------------------------------------------------\u001b[0m",
      "\u001b[1;31mNameError\u001b[0m                                 Traceback (most recent call last)",
      "\u001b[1;32m<ipython-input-3-928730258194>\u001b[0m in \u001b[0;36m<module>\u001b[1;34m\u001b[0m\n\u001b[1;32m----> 1\u001b[1;33m \u001b[0mproducer\u001b[0m \u001b[1;33m=\u001b[0m \u001b[0mKafkaProducer\u001b[0m\u001b[1;33m(\u001b[0m\u001b[0mbootstrap_servers\u001b[0m\u001b[1;33m=\u001b[0m\u001b[1;33m[\u001b[0m\u001b[1;34m'localhost:9092'\u001b[0m\u001b[1;33m]\u001b[0m\u001b[1;33m,\u001b[0m\u001b[0mvalue_serializer\u001b[0m\u001b[1;33m=\u001b[0m\u001b[1;32mlambda\u001b[0m \u001b[0mx\u001b[0m\u001b[1;33m:\u001b[0m \u001b[0mdumps\u001b[0m\u001b[1;33m(\u001b[0m\u001b[0mx\u001b[0m\u001b[1;33m)\u001b[0m\u001b[1;33m.\u001b[0m\u001b[0mencode\u001b[0m\u001b[1;33m(\u001b[0m\u001b[1;34m'utf-8'\u001b[0m\u001b[1;33m)\u001b[0m\u001b[1;33m)\u001b[0m\u001b[1;33m\u001b[0m\u001b[1;33m\u001b[0m\u001b[0m\n\u001b[0m",
      "\u001b[1;31mNameError\u001b[0m: name 'KafkaProducer' is not defined"
     ]
    }
   ],
   "source": [
    "producer = KafkaProducer(bootstrap_servers=['localhost:9092'],value_serializer=lambda x: dumps(x).encode('utf-8'))"
   ]
  },
  {
   "cell_type": "code",
   "execution_count": 27,
   "metadata": {},
   "outputs": [],
   "source": [
    "ConsumedMessages = []\n",
    "Message_Values = []\n",
    "IP_Addresses = []"
   ]
  },
  {
   "cell_type": "code",
   "execution_count": 28,
   "metadata": {},
   "outputs": [
    {
     "name": "stdout",
     "output_type": "stream",
     "text": [
      "message appended\n",
      "IP address appended\n",
      "message appended\n",
      "IP address appended\n",
      "message appended\n",
      "IP address appended\n",
      "message appended\n",
      "IP address appended\n",
      "message appended\n",
      "IP address appended\n",
      "message appended\n",
      "IP address appended\n",
      "message appended\n",
      "IP address appended\n",
      "message appended\n",
      "IP address appended\n",
      "message appended\n",
      "IP address appended\n",
      "message appended\n",
      "IP address appended\n",
      "message appended\n",
      "IP address appended\n",
      "message appended\n",
      "IP address appended\n",
      "message appended\n",
      "IP address appended\n",
      "message appended\n",
      "IP address appended\n",
      "message appended\n",
      "IP address appended\n",
      "message appended\n",
      "IP address appended\n",
      "message appended\n",
      "IP address appended\n",
      "message appended\n",
      "IP address appended\n",
      "message appended\n",
      "IP address appended\n",
      "message appended\n",
      "IP address appended\n",
      "message appended\n",
      "IP address appended\n",
      "message appended\n",
      "IP address appended\n",
      "message appended\n",
      "IP address appended\n",
      "message appended\n",
      "IP address appended\n",
      "message appended\n",
      "IP address appended\n",
      "message appended\n",
      "IP address appended\n",
      "message appended\n",
      "IP address appended\n",
      "message appended\n",
      "IP address appended\n",
      "message appended\n",
      "IP address appended\n",
      "message appended\n",
      "IP address appended\n",
      "message appended\n",
      "IP address appended\n",
      "message appended\n",
      "IP address appended\n",
      "message appended\n",
      "IP address appended\n",
      "message appended\n",
      "IP address appended\n",
      "message appended\n",
      "IP address appended\n",
      "message appended\n",
      "IP address appended\n",
      "message appended\n",
      "IP address appended\n",
      "message appended\n",
      "IP address appended\n",
      "message appended\n",
      "IP address appended\n",
      "message appended\n",
      "IP address appended\n",
      "message appended\n",
      "IP address appended\n",
      "message appended\n",
      "IP address appended\n",
      "message appended\n",
      "IP address appended\n",
      "message appended\n",
      "IP address appended\n",
      "message appended\n",
      "IP address appended\n",
      "message appended\n",
      "IP address appended\n",
      "message appended\n",
      "IP address appended\n",
      "message appended\n",
      "IP address appended\n",
      "message appended\n",
      "IP address appended\n",
      "message appended\n",
      "IP address appended\n",
      "message appended\n",
      "IP address appended\n",
      "message appended\n",
      "IP address appended\n",
      "message appended\n",
      "IP address appended\n",
      "message appended\n",
      "IP address appended\n",
      "message appended\n",
      "IP address appended\n",
      "message appended\n",
      "IP address appended\n",
      "message appended\n",
      "IP address appended\n",
      "message appended\n",
      "IP address appended\n",
      "message appended\n",
      "IP address appended\n",
      "message appended\n",
      "IP address appended\n",
      "message appended\n",
      "IP address appended\n",
      "message appended\n",
      "IP address appended\n",
      "message appended\n",
      "IP address appended\n",
      "message appended\n",
      "IP address appended\n",
      "message appended\n",
      "IP address appended\n",
      "message appended\n",
      "IP address appended\n",
      "message appended\n",
      "IP address appended\n",
      "message appended\n",
      "IP address appended\n",
      "message appended\n",
      "IP address appended\n",
      "message appended\n",
      "IP address appended\n",
      "message appended\n",
      "IP address appended\n",
      "message appended\n",
      "IP address appended\n",
      "message appended\n",
      "IP address appended\n",
      "message appended\n",
      "IP address appended\n",
      "message appended\n",
      "IP address appended\n",
      "message appended\n",
      "IP address appended\n",
      "message appended\n",
      "IP address appended\n",
      "message appended\n",
      "IP address appended\n",
      "message appended\n",
      "IP address appended\n",
      "message appended\n",
      "IP address appended\n",
      "message appended\n",
      "IP address appended\n",
      "message appended\n",
      "IP address appended\n",
      "message appended\n",
      "IP address appended\n",
      "message appended\n",
      "IP address appended\n",
      "message appended\n",
      "IP address appended\n",
      "message appended\n",
      "IP address appended\n",
      "message appended\n",
      "IP address appended\n",
      "message appended\n",
      "IP address appended\n",
      "message appended\n",
      "IP address appended\n",
      "message appended\n",
      "IP address appended\n",
      "message appended\n",
      "IP address appended\n",
      "message appended\n",
      "IP address appended\n",
      "message appended\n",
      "IP address appended\n",
      "message appended\n",
      "IP address appended\n",
      "message appended\n",
      "IP address appended\n",
      "message appended\n",
      "IP address appended\n",
      "message appended\n",
      "IP address appended\n",
      "message appended\n",
      "IP address appended\n",
      "message appended\n",
      "IP address appended\n",
      "message appended\n",
      "IP address appended\n",
      "message appended\n",
      "IP address appended\n",
      "message appended\n",
      "IP address appended\n",
      "message appended\n",
      "IP address appended\n",
      "message appended\n",
      "IP address appended\n",
      "message appended\n",
      "IP address appended\n",
      "message appended\n",
      "IP address appended\n",
      "message appended\n",
      "IP address appended\n",
      "message appended\n",
      "IP address appended\n",
      "message appended\n",
      "IP address appended\n",
      "message appended\n",
      "IP address appended\n",
      "message appended\n",
      "IP address appended\n",
      "message appended\n",
      "IP address appended\n",
      "message appended\n",
      "IP address appended\n",
      "message appended\n",
      "IP address appended\n",
      "message appended\n",
      "IP address appended\n",
      "message appended\n",
      "IP address appended\n",
      "message appended\n",
      "IP address appended\n",
      "message appended\n",
      "IP address appended\n",
      "message appended\n",
      "IP address appended\n",
      "message appended\n",
      "IP address appended\n",
      "message appended\n",
      "IP address appended\n",
      "message appended\n",
      "IP address appended\n",
      "message appended\n",
      "IP address appended\n",
      "message appended\n",
      "IP address appended\n",
      "message appended\n",
      "IP address appended\n",
      "message appended\n",
      "IP address appended\n",
      "message appended\n",
      "IP address appended\n",
      "message appended\n",
      "IP address appended\n",
      "message appended\n",
      "IP address appended\n",
      "message appended\n",
      "IP address appended\n",
      "message appended\n",
      "IP address appended\n",
      "message appended\n",
      "IP address appended\n",
      "message appended\n",
      "IP address appended\n",
      "message appended\n",
      "IP address appended\n",
      "message appended\n",
      "IP address appended\n",
      "message appended\n",
      "IP address appended\n",
      "message appended\n",
      "IP address appended\n",
      "message appended\n",
      "IP address appended\n",
      "message appended\n",
      "IP address appended\n",
      "message appended\n",
      "IP address appended\n",
      "message appended\n",
      "IP address appended\n",
      "message appended\n",
      "IP address appended\n",
      "message appended\n",
      "IP address appended\n",
      "message appended\n",
      "IP address appended\n",
      "message appended\n",
      "IP address appended\n",
      "message appended\n",
      "IP address appended\n",
      "message appended\n",
      "IP address appended\n",
      "message appended\n",
      "IP address appended\n",
      "message appended\n",
      "IP address appended\n",
      "message appended\n",
      "IP address appended\n",
      "message appended\n",
      "IP address appended\n",
      "message appended\n",
      "IP address appended\n",
      "message appended\n",
      "IP address appended\n",
      "message appended\n",
      "IP address appended\n",
      "message appended\n",
      "IP address appended\n",
      "message appended\n",
      "IP address appended\n",
      "message appended\n",
      "IP address appended\n",
      "message appended\n",
      "IP address appended\n",
      "message appended\n",
      "IP address appended\n",
      "message appended\n",
      "IP address appended\n",
      "message appended\n",
      "IP address appended\n",
      "message appended\n",
      "IP address appended\n",
      "message appended\n",
      "IP address appended\n",
      "message appended\n",
      "IP address appended\n",
      "message appended\n",
      "IP address appended\n",
      "message appended\n",
      "IP address appended\n",
      "message appended\n",
      "IP address appended\n",
      "message appended\n",
      "IP address appended\n",
      "message appended\n",
      "IP address appended\n",
      "message appended\n",
      "IP address appended\n",
      "message appended\n",
      "IP address appended\n",
      "message appended\n",
      "IP address appended\n",
      "message appended\n",
      "IP address appended\n",
      "message appended\n",
      "IP address appended\n",
      "message appended\n",
      "IP address appended\n",
      "message appended\n",
      "IP address appended\n",
      "message appended\n",
      "IP address appended\n",
      "message appended\n",
      "IP address appended\n",
      "message appended\n",
      "IP address appended\n",
      "message appended\n",
      "IP address appended\n",
      "message appended\n",
      "IP address appended\n",
      "message appended\n",
      "IP address appended\n",
      "message appended\n",
      "IP address appended\n",
      "message appended\n",
      "IP address appended\n",
      "message appended\n",
      "IP address appended\n",
      "message appended\n",
      "IP address appended\n",
      "message appended\n",
      "IP address appended\n",
      "message appended\n",
      "IP address appended\n",
      "message appended\n",
      "IP address appended\n",
      "message appended\n",
      "IP address appended\n",
      "message appended\n",
      "IP address appended\n",
      "message appended\n",
      "IP address appended\n"
     ]
    },
    {
     "ename": "TypeError",
     "evalue": "close() missing 1 required positional argument: 'self'",
     "output_type": "error",
     "traceback": [
      "\u001b[1;31m---------------------------------------------------------------------------\u001b[0m",
      "\u001b[1;31mTypeError\u001b[0m                                 Traceback (most recent call last)",
      "\u001b[1;32m<ipython-input-28-d01b9acf63e1>\u001b[0m in \u001b[0;36m<module>\u001b[1;34m\u001b[0m\n\u001b[0;32m      7\u001b[0m     \u001b[0mprint\u001b[0m\u001b[1;33m(\u001b[0m\u001b[1;34m'IP address appended'\u001b[0m\u001b[1;33m)\u001b[0m\u001b[1;33m\u001b[0m\u001b[1;33m\u001b[0m\u001b[0m\n\u001b[0;32m      8\u001b[0m \u001b[1;31m#         print(f'IP Address: {IP_Address}')\u001b[0m\u001b[1;33m\u001b[0m\u001b[1;33m\u001b[0m\u001b[1;33m\u001b[0m\u001b[0m\n\u001b[1;32m----> 9\u001b[1;33m \u001b[0mKafkaConsumer\u001b[0m\u001b[1;33m.\u001b[0m\u001b[0mclose\u001b[0m\u001b[1;33m(\u001b[0m\u001b[1;33m)\u001b[0m\u001b[1;33m\u001b[0m\u001b[1;33m\u001b[0m\u001b[0m\n\u001b[0m",
      "\u001b[1;31mTypeError\u001b[0m: close() missing 1 required positional argument: 'self'"
     ]
    }
   ],
   "source": [
    "for message in consumer:\n",
    "    ConsumedMessages.append(message)\n",
    "    Message_Values.append(message.value)\n",
    "    print('message appended')\n",
    "    IP_Address = message.value[0]\n",
    "    IP_Addresses.append(IP_Address)\n",
    "    print('IP address appended')\n",
    "#         print(f'IP Address: {IP_Address}')\n",
    "KafkaConsumer.close()"
   ]
  },
  {
   "cell_type": "code",
   "execution_count": 29,
   "metadata": {},
   "outputs": [
    {
     "data": {
      "text/plain": [
       "192"
      ]
     },
     "execution_count": 29,
     "metadata": {},
     "output_type": "execute_result"
    }
   ],
   "source": [
    "len(ConsumedMessages)"
   ]
  },
  {
   "cell_type": "code",
   "execution_count": 30,
   "metadata": {},
   "outputs": [
    {
     "data": {
      "text/plain": [
       "ConsumerRecord(topic='ipTest6', partition=0, offset=0, timestamp=1554307938104, timestamp_type=0, key=None, value=['200.4.91.190', '[25/May/2015:23:11:15', '+0000]', 'GET', '/', 'HTTP/1.0', '200', '3557', 'Mozilla/4.0', '(compatible;', 'MSIE', '6.0;', 'Windows', 'NT', '5.1;', 'SV1)'], headers=[], checksum=None, serialized_key_size=-1, serialized_value_size=170, serialized_header_size=-1)"
      ]
     },
     "execution_count": 30,
     "metadata": {},
     "output_type": "execute_result"
    }
   ],
   "source": [
    "test = ConsumedMessages[0]\n",
    "test"
   ]
  },
  {
   "cell_type": "code",
   "execution_count": 31,
   "metadata": {},
   "outputs": [
    {
     "data": {
      "text/plain": [
       "kafka.consumer.fetcher.ConsumerRecord"
      ]
     },
     "execution_count": 31,
     "metadata": {},
     "output_type": "execute_result"
    }
   ],
   "source": [
    "type(test)"
   ]
  },
  {
   "cell_type": "code",
   "execution_count": 32,
   "metadata": {},
   "outputs": [
    {
     "name": "stdout",
     "output_type": "stream",
     "text": [
      "['200.4.91.190', '[25/May/2015:23:11:15', '+0000]', 'GET', '/', 'HTTP/1.0', '200', '3557', 'Mozilla/4.0', '(compatible;', 'MSIE', '6.0;', 'Windows', 'NT', '5.1;', 'SV1)']\n"
     ]
    }
   ],
   "source": [
    "print(test.value)"
   ]
  },
  {
   "cell_type": "code",
   "execution_count": 33,
   "metadata": {},
   "outputs": [],
   "source": [
    "ip = ConsumedMessages[0].value[0]"
   ]
  },
  {
   "cell_type": "code",
   "execution_count": 15,
   "metadata": {},
   "outputs": [
    {
     "data": {
      "text/plain": [
       "'200.4.91.190'"
      ]
     },
     "execution_count": 15,
     "metadata": {},
     "output_type": "execute_result"
    }
   ],
   "source": [
    "ip"
   ]
  },
  {
   "cell_type": "code",
   "execution_count": 34,
   "metadata": {},
   "outputs": [
    {
     "data": {
      "text/plain": [
       "192"
      ]
     },
     "execution_count": 34,
     "metadata": {},
     "output_type": "execute_result"
    }
   ],
   "source": [
    "len(IP_Addresses)"
   ]
  },
  {
   "cell_type": "code",
   "execution_count": 35,
   "metadata": {},
   "outputs": [
    {
     "data": {
      "text/plain": [
       "'200.4.91.190'"
      ]
     },
     "execution_count": 35,
     "metadata": {},
     "output_type": "execute_result"
    }
   ],
   "source": [
    "IP_Addresses[0]"
   ]
  }
 ],
 "metadata": {
  "kernelspec": {
   "display_name": "Python [conda env:KafkaTest]",
   "language": "python",
   "name": "conda-env-KafkaTest-py"
  },
  "language_info": {
   "codemirror_mode": {
    "name": "ipython",
    "version": 3
   },
   "file_extension": ".py",
   "mimetype": "text/x-python",
   "name": "python",
   "nbconvert_exporter": "python",
   "pygments_lexer": "ipython3",
   "version": "3.7.3"
  },
  "varInspector": {
   "cols": {
    "lenName": 16,
    "lenType": 16,
    "lenVar": 40
   },
   "kernels_config": {
    "python": {
     "delete_cmd_postfix": "",
     "delete_cmd_prefix": "del ",
     "library": "var_list.py",
     "varRefreshCmd": "print(var_dic_list())"
    },
    "r": {
     "delete_cmd_postfix": ") ",
     "delete_cmd_prefix": "rm(",
     "library": "var_list.r",
     "varRefreshCmd": "cat(var_dic_list()) "
    }
   },
   "types_to_exclude": [
    "module",
    "function",
    "builtin_function_or_method",
    "instance",
    "_Feature"
   ],
   "window_display": false
  }
 },
 "nbformat": 4,
 "nbformat_minor": 2
}
